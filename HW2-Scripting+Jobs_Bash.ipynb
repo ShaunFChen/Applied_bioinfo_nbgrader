{
 "cells": [
  {
   "cell_type": "markdown",
   "metadata": {
    "nbgrader": {
     "grade": false,
     "grade_id": "context_1",
     "locked": true,
     "schema_version": 3,
     "solution": false,
     "task": false
    }
   },
   "source": [
    "# Homework 2: Scripting and Jobs (Bash, cnt'd)\n",
    "Curated by Sabah Ul-Hasan, Huitian Dao, Karthik Gangavarapu, and Andrew Su\n",
    "\n",
    "Homeworks are due every Tuesday at 8 AM PST.<br>\n",
    "Download your homework as a notebook for TAs to provide feedback: HW#_LastName.ipynb<br>\n",
    "Make sure to save your work constantly so the efforts don't get lost!\n",
    "\n",
    "In this assignment, you will <br>\n",
    "A2.aa Refresh your understanding of bash<br>\n",
    "A2.ab Explore pipes in-depth (+awk) <br>\n",
    "A2.ba Familiarize yourself with loops and Git <br>\n",
    "A2.bb Compile what you've learned as job to run on the cluster (HPC)<br>\n",
    "\n",
    "Note that there is a section at the very end (A2.bb) to point out any enhancements you personally would make to this assignment if you were to lead the course. Feel free to give it a try!"
   ]
  },
  {
   "cell_type": "markdown",
   "metadata": {
    "nbgrader": {
     "grade": false,
     "grade_id": "cell-a7144d9410059a1a",
     "locked": true,
     "schema_version": 3,
     "solution": false,
     "task": false
    }
   },
   "source": [
    "### A2.aa: Refresh understanding of bash [20-30 min] Group of 4 \n",
    "1. [5 min] In your group, identify four items you each considered to be the most difficult part of Homework 1. Then, break into pairs based on who in the group found it easier to navigate vs harder to navigate. In other words, pair yourself with someone who better understood what you found difficult and vice versa. Denote what these sections are below as a,b,c,or d.\n",
    "2. [10 min] Spend time discussing your troubleshooting process of working through what the other person found as difficult with one another. Write down what you learned. What was the before vs after result?\n",
    "3. [15 min] Now, share as a whole group. Write down what you gained from the discussion in how you will be approaching bash scripting differently than you would do before."
   ]
  },
  {
   "cell_type": "code",
   "execution_count": 1,
   "metadata": {},
   "outputs": [],
   "source": [
    "# 1a\n",
    "# 1b\n",
    "# 1c\n",
    "# 1d"
   ]
  },
  {
   "cell_type": "code",
   "execution_count": 2,
   "metadata": {},
   "outputs": [],
   "source": [
    "# 2"
   ]
  },
  {
   "cell_type": "code",
   "execution_count": 3,
   "metadata": {},
   "outputs": [],
   "source": [
    "# 3"
   ]
  },
  {
   "cell_type": "markdown",
   "metadata": {
    "nbgrader": {
     "grade": false,
     "grade_id": "cell-ad0be229bc6cbff4",
     "locked": true,
     "schema_version": 3,
     "solution": false,
     "task": false
    }
   },
   "source": [
    "### A2.aa: Explore pipes in-depth (+awk) [20-30 min] TPS \n",
    "[10-15 min]: On your own time, try the following exercises"
   ]
  },
  {
   "cell_type": "markdown",
   "metadata": {
    "nbgrader": {
     "grade": false,
     "grade_id": "pipe",
     "locked": true,
     "schema_version": 3,
     "solution": false,
     "task": false
    }
   },
   "source": [
    "### Question 1 (1 point)\n",
    "Describe your current understanding of __pipes__. What are the various approaches, where does `awk` come into play?"
   ]
  },
  {
   "cell_type": "markdown",
   "metadata": {
    "nbgrader": {
     "grade": true,
     "grade_id": "pipe_answer",
     "locked": false,
     "points": 1,
     "schema_version": 3,
     "solution": true,
     "task": false
    }
   },
   "source": [
    "=== BEGIN MARK SCHEME ===  \n",
    "__Pipe__ is used to connect STDOUT to STDIN.  \n",
    "`awk` can be used to process text files, especially delimited files based on seperated fields.  \n",
    "=== END MARK SCHEME ===  "
   ]
  },
  {
   "cell_type": "markdown",
   "metadata": {
    "nbgrader": {
     "grade": false,
     "grade_id": "fix_awk",
     "locked": true,
     "schema_version": 3,
     "solution": false,
     "task": false
    }
   },
   "source": [
    "### Question 2 (1 point)\n",
    "Find the error and fix to run the script below. Describe the error in a sentence.  \n",
    "\n",
    "```\n",
    "%%bash\n",
    "awk '{print $3}' data/new_folder/artists_new.txt\n",
    "```\n",
    "\n",
    "What is `{print $3}` doing? Describe what `awk` is doing this, and its limitations in recognizing delimiters (Hint: tab). "
   ]
  },
  {
   "cell_type": "markdown",
   "metadata": {
    "nbgrader": {
     "grade": true,
     "grade_id": "fix_awk_answer",
     "locked": false,
     "points": 1,
     "schema_version": 3,
     "solution": true,
     "task": false
    }
   },
   "source": [
    "=== BEGIN MARK SCHEME ===  \n",
    "Need to set the field seperator as tab  \n",
    "=== END MARK SCHEME ===  "
   ]
  },
  {
   "cell_type": "code",
   "execution_count": 3,
   "metadata": {
    "nbgrader": {
     "grade": false,
     "grade_id": "fix_awk_code",
     "locked": false,
     "schema_version": 3,
     "solution": true,
     "task": false
    }
   },
   "outputs": [],
   "source": [
    "%%bash --out var2\n",
    "\n",
    "### BEGIN MY SOLUTION\n",
    "awk -F \"\\t\" '{print $3}' data/new_folder/artists_new.txt\n",
    "### END MY SOLUTION"
   ]
  },
  {
   "cell_type": "code",
   "execution_count": 27,
   "metadata": {
    "nbgrader": {
     "grade": true,
     "grade_id": "fix_awk_test",
     "locked": true,
     "points": 1,
     "schema_version": 3,
     "solution": false,
     "task": false
    }
   },
   "outputs": [],
   "source": [
    "# check the first line of the output\n",
    "assert var2.split('\\n')[0] == 'Baroque'\n",
    "# check the last line of the output\n",
    "assert var2.split('\\n')[-2] == 'Early Renaissance'\n",
    "### BEGIN HIDDEN TESTS\n",
    "assert len(var2.split('\\n')) == 151\n",
    "value_counts = dict((x, var2.split('\\n').count(x)) for x in set(var2.split('\\n')))\n",
    "assert value_counts == {'': 1,\n",
    " 'Romanticism': 18,\n",
    " 'Neoclassicism': 10,\n",
    " 'High Renaissance': 5,\n",
    " 'Early Renaissance': 12,\n",
    " 'Mannerism': 10,\n",
    " 'Medieval': 8,\n",
    " 'Northern Renaissance': 6,\n",
    " 'Baroque': 61,\n",
    " 'Rococo': 10,\n",
    " 'Realism': 9,\n",
    " 'Impressionism': 1}\n",
    "### END HIDDEN TESTS"
   ]
  },
  {
   "cell_type": "markdown",
   "metadata": {
    "nbgrader": {
     "grade": false,
     "grade_id": "awk_sort_uniq",
     "locked": true,
     "schema_version": 3,
     "solution": false,
     "task": false
    }
   },
   "source": [
    "### Question 3 (1 point)\n",
    "Use `awk`, `sort`, and/or `uniq` to find the most common last names among all artists in 'artists.txt' [10-15 min]  \n",
    "Now, discuss your findings with your partner. What was similar, and what was different?  "
   ]
  },
  {
   "cell_type": "markdown",
   "metadata": {
    "nbgrader": {
     "grade": true,
     "grade_id": "awk_sort_uniq_answer",
     "locked": false,
     "points": 1,
     "schema_version": 3,
     "solution": true,
     "task": false
    }
   },
   "source": [
    "=== BEGIN MARK SCHEME ===  \n",
    "      5 KOBELL\n",
    "      5 KNIP\n",
    "=== END MARK SCHEME ===  "
   ]
  },
  {
   "cell_type": "code",
   "execution_count": 28,
   "metadata": {
    "nbgrader": {
     "grade": false,
     "grade_id": "awk_sort_uniq_code",
     "locked": false,
     "schema_version": 3,
     "solution": true,
     "task": false
    }
   },
   "outputs": [],
   "source": [
    "%%bash\n",
    "\n",
    "### BEGIN MY SOLUTION\n",
    "awk -F \",| \" '{print $1}' data/new_folder/artists_new.txt | uniq -c | sort -r\n",
    "### END MY SOLUTION"
   ]
  },
  {
   "cell_type": "markdown",
   "metadata": {
    "nbgrader": {
     "grade": false,
     "grade_id": "integrate",
     "locked": true,
     "points": 1,
     "schema_version": 3,
     "solution": false,
     "task": true
    }
   },
   "source": [
    "On your own: \n",
    "\n",
    "### Question 4 (1 point)\n",
    "Now that we've worked through these in pairs, create a bash script that integrates two items we haven't yet tried in the exercises, such as NF, to answer a question about the artists.txt file. Describe briefly what this does. Have this complete pior to next class."
   ]
  },
  {
   "cell_type": "markdown",
   "metadata": {
    "nbgrader": {
     "grade": true,
     "grade_id": "integrate_answer",
     "locked": false,
     "points": 0,
     "schema_version": 3,
     "solution": true,
     "task": false
    }
   },
   "source": [
    "=== BEGIN MARK SCHEME ===  \n",
    "Example: Using different field seperators, find out how many rows have certain number of columns  \n",
    "=== END MARK SCHEME ===  "
   ]
  },
  {
   "cell_type": "code",
   "execution_count": 35,
   "metadata": {
    "nbgrader": {
     "grade": false,
     "grade_id": "integrate_code",
     "locked": false,
     "schema_version": 3,
     "solution": true,
     "task": false
    }
   },
   "outputs": [
    {
     "name": "stdout",
     "output_type": "stream",
     "text": [
      "by tab\n",
      "    150 4\n",
      "by comma\n",
      "     10 1\n",
      "    128 2\n",
      "     12 3\n"
     ]
    }
   ],
   "source": [
    "%%bash\n",
    "\n",
    "### BEGIN MY SOLUTION\n",
    "echo \"by tab\"\n",
    "awk -F '\\t' '{print NF}' data/new_folder/artists_new.txt | sort | uniq -c\n",
    "echo \"by comma\"\n",
    "awk -F ',' '{print NF}' data/new_folder/artists_new.txt | sort | uniq -c\n",
    "### END MY SOLUTION"
   ]
  },
  {
   "cell_type": "markdown",
   "metadata": {
    "nbgrader": {
     "grade": false,
     "grade_id": "reflections",
     "locked": true,
     "schema_version": 3,
     "solution": false,
     "task": false
    }
   },
   "source": [
    "### Question 5 (1 point)\n",
    "Reflections: On an integer scale of `1-5`, `1` being very easy and `5` being the most difficult, where would you rank today's exercises?  \n",
    "Provide brief notes on what was easy vs difficult, and why.\n",
    "\n",
    "Install Git and review prior to next class: https://git-scm.com/book/en/v2/Getting-Started-Installing-Git"
   ]
  },
  {
   "cell_type": "markdown",
   "metadata": {
    "nbgrader": {
     "grade": true,
     "grade_id": "reflections_answer",
     "locked": false,
     "points": 1,
     "schema_version": 3,
     "solution": true,
     "task": false
    }
   },
   "source": [
    "=== BEGIN MARK SCHEME ===  \n",
    "\n",
    "=== END MARK SCHEME ===  "
   ]
  },
  {
   "cell_type": "markdown",
   "metadata": {},
   "source": [
    "### A2.ba: Loops and Git [20-30 min] Group of 3\n",
    "#### ba.i Loops <br>\n",
    "[10 min] On your own\n",
    "1. Describe how a loop operates. Why and when do you want to use a loop, vs a single command string?\n",
    "2. Write a bash for loop that outpouts letters a-e\n",
    "3. What are the different types of loops, and when might you want to try one over another? Script an example.\n",
    "\n",
    "#### ba.ii Git <br>\n",
    "[15-20 min] Discuss and execute the following with your group -- be careful of permanently changing something!\n",
    "4. Save one of the scripts you've created and push it to a new Github repository connected to your own account labeled as \"Applied-Bioinformatics_Course\". Do this as a group through one account, and then affirm your understanding by ensuring everyone has their own script uploaded in their repository. Use the terminal to do this, not the website (though you can confirm it pops up on the website)! Share the final URL below."
   ]
  },
  {
   "cell_type": "code",
   "execution_count": null,
   "metadata": {},
   "outputs": [],
   "source": [
    "# Loop:\n",
    "# A sequence of instructions to be repeated until a certain condition is reached\n",
    "# Why: to conveniently repeat instructions\n",
    "# When: when an instruction need to be executed repeatedly and the condition for ending executioncan be described"
   ]
  },
  {
   "cell_type": "code",
   "execution_count": 5,
   "metadata": {},
   "outputs": [
    {
     "name": "stdout",
     "output_type": "stream",
     "text": [
      "a\n",
      "b\n",
      "c\n",
      "d\n",
      "e\n"
     ]
    }
   ],
   "source": [
    "%%bash\n",
    "# 2\n",
    "for i in {a..e}\n",
    "do\n",
    "  echo $i\n",
    "done"
   ]
  },
  {
   "cell_type": "code",
   "execution_count": 6,
   "metadata": {},
   "outputs": [
    {
     "name": "stdout",
     "output_type": "stream",
     "text": [
      "1\n",
      "2\n",
      "3\n"
     ]
    }
   ],
   "source": [
    "%%bash\n",
    "# 3\n",
    "# For / While / Util\n",
    "\n",
    "for i in {1..3}\n",
    "do\n",
    "  echo $i\n",
    "done"
   ]
  },
  {
   "cell_type": "code",
   "execution_count": 7,
   "metadata": {},
   "outputs": [
    {
     "name": "stdout",
     "output_type": "stream",
     "text": [
      "0\n",
      "1\n",
      "2\n"
     ]
    }
   ],
   "source": [
    "%%bash\n",
    "i=0\n",
    "\n",
    "while [ $i -lt 3 ]\n",
    "do\n",
    "  echo $i\n",
    "  i=$((i+1))\n",
    "done"
   ]
  },
  {
   "cell_type": "code",
   "execution_count": 8,
   "metadata": {},
   "outputs": [
    {
     "name": "stdout",
     "output_type": "stream",
     "text": [
      "0\n",
      "1\n",
      "2\n",
      "3\n"
     ]
    }
   ],
   "source": [
    "%%bash\n",
    "i=0\n",
    "\n",
    "until [ $i -gt 3 ]\n",
    "do\n",
    "  echo $i\n",
    "  i=$((i+1))\n",
    "done"
   ]
  },
  {
   "cell_type": "code",
   "execution_count": 9,
   "metadata": {},
   "outputs": [],
   "source": [
    "# 4\n",
    "# git add -A\n",
    "# git commit \"NA\"\n",
    "# git push"
   ]
  },
  {
   "cell_type": "markdown",
   "metadata": {},
   "source": [
    "### A2.bb: Create a script to run a job on the cluster (HPC) [20-30 min] Individual\n",
    "Get excited, we're about to apply what we've learned from a technical perspective to the science-y stuff! Familiar with 'fasta files' from NCBI? Here we go!\n",
    "https://blast.ncbi.nlm.nih.gov/Blast.cgi?CMD=Web&PAGE_TYPE=BlastDocs&DOC_TYPE=BlastHelp\n",
    "\n",
    "#### bb.i Applying what we've learned on bash to biology <br>\n",
    "1. In your \"Applied-Bioinformatics_Course\" Github repository, create a folder titled \"HW2_[Lastname]\"<br>\n",
    "*Always check that you're in the correct working directory\n",
    "2. Create a bash loop that renames all the files in the folder data/fastq folder from .fq to .fastq<br>\n",
    "*Have all these files copied and moved into the 'new_folder' directory so as not to overwrite the original .fq\n",
    "3. Print all nucleotide sequences from ./data/fastq/simulated1.R1.fastq by replacing all 'T's in the nucleotide sequences with 'U's\n",
    "\n",
    "#### bb.ii Checking that we can access the HPC *make sure you're set up for VPN <br>\n",
    "4. On your terminal, are you able to login to the TSRI cluster? Y/N <br>\n",
    "```ssh [yourlogin]@login01.scripps.edu``` <br>\n",
    "[Type out any obstacles you encounter here] <br>\n",
    "5. What is meant by \"HPC\", and why do we need one vs our own personal computer or Github? \n",
    "\n",
    "HPC User Manual: http://docs.adaptivecomputing.com/torque/4-0-2/help.htm#topics/2-jobs/submittingManagingJobs.htm#topics/2-jobs/submittingManagingJobs.htm?TocPath=2.0%20Submitting%20and%20managing%20jobs%7C_____0\n",
    "\n",
    "#### bb.iii Running a job on the HPC to explore a biological question On Checking that we can access the HPC <br>\n",
    "6. Use scp to download the file 'models.txt' from <br> \n",
    "/gpfs/home/hdiao/Applied-Bioinformatics-Course/week1-2 <br>\n",
    "And append \"Drosophila melanogaster\" into the file\n",
    "7. Log in to the HPC, copy the folder<br>\n",
    "/gpfs/home/hdiao/Applied-Bioinformatics-Course/week1-2<br>\n",
    "to your HPC home directory\n",
    "8. Run fastqc for the file pairend_fastq/SRR396637.sra_1.fastq. Submit a job, check the job process, archive and zip the output files.\n",
    "9. Change permission for the file hs_TBX21.fasta so that only owner can read and write it.\n",
    "10. Reflections: On an integer scale of 1-5, 1 being very easy and 5 being the most difficult, where would you rank the A2.bb assignment and why? Include some notes about what you gained from this past week that you didn't know before as well as notes of things you already knew. \n",
    "11. Improvements: Notice a mistake, or an area of this homework that could have been improved? Include your thoughts here."
   ]
  },
  {
   "cell_type": "code",
   "execution_count": 20,
   "metadata": {},
   "outputs": [
    {
     "name": "stdout",
     "output_type": "stream",
     "text": [
      "/Users/sulhasan/Downloads/HW-Keys\n"
     ]
    }
   ],
   "source": [
    "%%bash\n",
    "# 2\n",
    "\n",
    "cp -R data/fastq data/new_folder\n",
    "pwd\n",
    "cd data/new_folder/fastq\n",
    "\n",
    "for i in *.fq\n",
    "do\n",
    "  mv $i ${i/.fq/.fastq} \n",
    "done"
   ]
  },
  {
   "cell_type": "code",
   "execution_count": 21,
   "metadata": {},
   "outputs": [
    {
     "name": "stdout",
     "output_type": "stream",
     "text": [
      "UGGGAAAACCAGGAGAGUUCUUCCUGAAAUAGUCCGUGAAGCCAUAAAAAGAAGACUCCGUACUGUGAUC\n",
      "ACUUACCAUUUGUCAUGGCCCUGGGACUAACCGCUGUGAGGCUGGUCGACCCGAUCAACGUGGUGGGACU\n",
      "GCCAGACAACCCCGUUUAUUAGAGAGGACGCUGACCCUUGUGUGGGGGCCUCAUAGCUUCCAUGGUAAGC\n",
      "CUCUAAGCUGAUGCUGGAACUUGAUCCACCAUUUGGGGACUCUUACAUUGUCAUAGGAGUCGGGGAGAAG\n",
      "GGCAUCACCGAGGUGUGCAGAGAAGAGGCCCGCCGCGCCCUCAAGGACGGUGUGGCAACGGGAGGCCAUG\n",
      "GAGAUUGCCCGUGCCUGUGAACGAGCUGCCCCACGGGUGGAAGGCUUUGGGGAAAUCGUAUUUCGUCAGA\n",
      "AUACCAUCAUCCCAGGCUUGCUUGACUGCUGCUGGCAAUCUACGGGGGGAGUCAGGAUGGUACUUGUACC\n",
      "UUCUUCUUCACACUGCCUUUUCCCUUCAGAGAGAGGAGCAAAAACCCCCCGCAAGUAGCAAGGCCUGCUC\n",
      "GAAAGAUCUGGCUGCCAAGCUGAGAAUAAUCAAUGCUAGGAAGGAGAAGAAGAGACGAGGCGCAGAUACU\n",
      "GUUUUCAAGGAAAAAGUGGACACUAGGGUGCCAGACCCCCAAGAAGGCACUCGUCAGGUUAUGAGCAUGG\n",
      "ACAUGCAAACUCUGACCCCAGUUGGGAGGUUGAUAACCGCUAACCCCGUACUCACUGAAAGCACUGAGAA\n",
      "GGCUUGAAAAAAGACCAGGAGCCUUUUGUAUAAAAGUGUUGUGCCCAUACACCAGCACUAUGCUGGAAAC\n",
      "UCUUUUCUCUUUUUCCCAUCAUGUUGUACACACAGCUCUGGCACUCUCCUCUCAGGUGGUGCACUCUUUG\n",
      "CACUGAUUUGAAAGGUGCUCCAAAAAUUUGAUGGAUGCGCUUGCCCAAUGAGUUGAGAGCGCCUCCAACU\n",
      "CUUUUCCGCUCCCCCUUUGGUCUUGUCUCGAAAUAAUGUCCAUAACUGUUUUCCCUUUUUCAGCUGGUCU\n",
      "UAGAGUUCUCAGUUCUUUCAGUGAUUACGGGGUUAGCUGUUAUCAACCUCCCAACUGGGGUCAGAGUUUG\n",
      "ACUCUUAAUACGGACUAUGAUCCACCCAUAGCUUUGCACCAACACGGGUUCUUCAUGACCAGGGCCUCCU\n",
      "CCAGCCAGAAUUGCAUGUGUCCACAUUGUUGUGUUCCUAUUGCUGGUGGUGCUCAUACCUGAGCCAGAAA\n",
      "GAAUGACUCUCUCGCCAUCAAGAAUGACCGGCUUUAGGCAUCUCCUGGAAUCUAUGACACGGUCAGCUUU\n",
      "UUGAACGAGGAUCACUGGAUGUGGAGAUAGAACACAGGAGGUGGUGUUUAAGGGCUGGGAUUACAAAGAC\n"
     ]
    }
   ],
   "source": [
    "%%bash\n",
    "# 3\n",
    "\n",
    "cat data/new_folder/fastq/simulated1.R1.fastq | awk \"NR%4==2\" | tr T U"
   ]
  },
  {
   "cell_type": "code",
   "execution_count": 22,
   "metadata": {},
   "outputs": [],
   "source": [
    "# HPC: high performance computing (higher computational capacity, for solving large scale problems)"
   ]
  },
  {
   "cell_type": "code",
   "execution_count": 23,
   "metadata": {},
   "outputs": [],
   "source": [
    "%%bash\n",
    "# 4\n",
    "\n",
    "echo \"Drosophila melanogaster\" >> models.txt"
   ]
  },
  {
   "cell_type": "markdown",
   "metadata": {},
   "source": [
    "```\n",
    "#!usr/bin/env bash\n",
    "\n",
    "module load fastqc\n",
    "\n",
    "fastqc pairend_fastq/SRR396637.sra_1.fastq\n",
    "\n",
    "```"
   ]
  },
  {
   "cell_type": "code",
   "execution_count": 24,
   "metadata": {},
   "outputs": [
    {
     "name": "stderr",
     "output_type": "stream",
     "text": [
      "chmod: hs_TBX21.fasta: No such file or directory\n"
     ]
    },
    {
     "ename": "CalledProcessError",
     "evalue": "Command 'b'\\nchmod 700 hs_TBX21.fasta\\n'' returned non-zero exit status 1.",
     "output_type": "error",
     "traceback": [
      "\u001b[0;31m---------------------------------------------------------------------------\u001b[0m",
      "\u001b[0;31mCalledProcessError\u001b[0m                        Traceback (most recent call last)",
      "\u001b[0;32m<ipython-input-24-4f05fbd124b6>\u001b[0m in \u001b[0;36m<module>\u001b[0;34m\u001b[0m\n\u001b[0;32m----> 1\u001b[0;31m \u001b[0mget_ipython\u001b[0m\u001b[0;34m(\u001b[0m\u001b[0;34m)\u001b[0m\u001b[0;34m.\u001b[0m\u001b[0mrun_cell_magic\u001b[0m\u001b[0;34m(\u001b[0m\u001b[0;34m'bash'\u001b[0m\u001b[0;34m,\u001b[0m \u001b[0;34m''\u001b[0m\u001b[0;34m,\u001b[0m \u001b[0;34m'\\nchmod 700 hs_TBX21.fasta\\n'\u001b[0m\u001b[0;34m)\u001b[0m\u001b[0;34m\u001b[0m\u001b[0;34m\u001b[0m\u001b[0m\n\u001b[0m",
      "\u001b[0;32m~/opt/anaconda3/lib/python3.8/site-packages/IPython/core/interactiveshell.py\u001b[0m in \u001b[0;36mrun_cell_magic\u001b[0;34m(self, magic_name, line, cell)\u001b[0m\n\u001b[1;32m   2369\u001b[0m             \u001b[0;32mwith\u001b[0m \u001b[0mself\u001b[0m\u001b[0;34m.\u001b[0m\u001b[0mbuiltin_trap\u001b[0m\u001b[0;34m:\u001b[0m\u001b[0;34m\u001b[0m\u001b[0;34m\u001b[0m\u001b[0m\n\u001b[1;32m   2370\u001b[0m                 \u001b[0margs\u001b[0m \u001b[0;34m=\u001b[0m \u001b[0;34m(\u001b[0m\u001b[0mmagic_arg_s\u001b[0m\u001b[0;34m,\u001b[0m \u001b[0mcell\u001b[0m\u001b[0;34m)\u001b[0m\u001b[0;34m\u001b[0m\u001b[0;34m\u001b[0m\u001b[0m\n\u001b[0;32m-> 2371\u001b[0;31m                 \u001b[0mresult\u001b[0m \u001b[0;34m=\u001b[0m \u001b[0mfn\u001b[0m\u001b[0;34m(\u001b[0m\u001b[0;34m*\u001b[0m\u001b[0margs\u001b[0m\u001b[0;34m,\u001b[0m \u001b[0;34m**\u001b[0m\u001b[0mkwargs\u001b[0m\u001b[0;34m)\u001b[0m\u001b[0;34m\u001b[0m\u001b[0;34m\u001b[0m\u001b[0m\n\u001b[0m\u001b[1;32m   2372\u001b[0m             \u001b[0;32mreturn\u001b[0m \u001b[0mresult\u001b[0m\u001b[0;34m\u001b[0m\u001b[0;34m\u001b[0m\u001b[0m\n\u001b[1;32m   2373\u001b[0m \u001b[0;34m\u001b[0m\u001b[0m\n",
      "\u001b[0;32m~/opt/anaconda3/lib/python3.8/site-packages/IPython/core/magics/script.py\u001b[0m in \u001b[0;36mnamed_script_magic\u001b[0;34m(line, cell)\u001b[0m\n\u001b[1;32m    140\u001b[0m             \u001b[0;32melse\u001b[0m\u001b[0;34m:\u001b[0m\u001b[0;34m\u001b[0m\u001b[0;34m\u001b[0m\u001b[0m\n\u001b[1;32m    141\u001b[0m                 \u001b[0mline\u001b[0m \u001b[0;34m=\u001b[0m \u001b[0mscript\u001b[0m\u001b[0;34m\u001b[0m\u001b[0;34m\u001b[0m\u001b[0m\n\u001b[0;32m--> 142\u001b[0;31m             \u001b[0;32mreturn\u001b[0m \u001b[0mself\u001b[0m\u001b[0;34m.\u001b[0m\u001b[0mshebang\u001b[0m\u001b[0;34m(\u001b[0m\u001b[0mline\u001b[0m\u001b[0;34m,\u001b[0m \u001b[0mcell\u001b[0m\u001b[0;34m)\u001b[0m\u001b[0;34m\u001b[0m\u001b[0;34m\u001b[0m\u001b[0m\n\u001b[0m\u001b[1;32m    143\u001b[0m \u001b[0;34m\u001b[0m\u001b[0m\n\u001b[1;32m    144\u001b[0m         \u001b[0;31m# write a basic docstring:\u001b[0m\u001b[0;34m\u001b[0m\u001b[0;34m\u001b[0m\u001b[0;34m\u001b[0m\u001b[0m\n",
      "\u001b[0;32m<decorator-gen-110>\u001b[0m in \u001b[0;36mshebang\u001b[0;34m(self, line, cell)\u001b[0m\n",
      "\u001b[0;32m~/opt/anaconda3/lib/python3.8/site-packages/IPython/core/magic.py\u001b[0m in \u001b[0;36m<lambda>\u001b[0;34m(f, *a, **k)\u001b[0m\n\u001b[1;32m    185\u001b[0m     \u001b[0;31m# but it's overkill for just that one bit of state.\u001b[0m\u001b[0;34m\u001b[0m\u001b[0;34m\u001b[0m\u001b[0;34m\u001b[0m\u001b[0m\n\u001b[1;32m    186\u001b[0m     \u001b[0;32mdef\u001b[0m \u001b[0mmagic_deco\u001b[0m\u001b[0;34m(\u001b[0m\u001b[0marg\u001b[0m\u001b[0;34m)\u001b[0m\u001b[0;34m:\u001b[0m\u001b[0;34m\u001b[0m\u001b[0;34m\u001b[0m\u001b[0m\n\u001b[0;32m--> 187\u001b[0;31m         \u001b[0mcall\u001b[0m \u001b[0;34m=\u001b[0m \u001b[0;32mlambda\u001b[0m \u001b[0mf\u001b[0m\u001b[0;34m,\u001b[0m \u001b[0;34m*\u001b[0m\u001b[0ma\u001b[0m\u001b[0;34m,\u001b[0m \u001b[0;34m**\u001b[0m\u001b[0mk\u001b[0m\u001b[0;34m:\u001b[0m \u001b[0mf\u001b[0m\u001b[0;34m(\u001b[0m\u001b[0;34m*\u001b[0m\u001b[0ma\u001b[0m\u001b[0;34m,\u001b[0m \u001b[0;34m**\u001b[0m\u001b[0mk\u001b[0m\u001b[0;34m)\u001b[0m\u001b[0;34m\u001b[0m\u001b[0;34m\u001b[0m\u001b[0m\n\u001b[0m\u001b[1;32m    188\u001b[0m \u001b[0;34m\u001b[0m\u001b[0m\n\u001b[1;32m    189\u001b[0m         \u001b[0;32mif\u001b[0m \u001b[0mcallable\u001b[0m\u001b[0;34m(\u001b[0m\u001b[0marg\u001b[0m\u001b[0;34m)\u001b[0m\u001b[0;34m:\u001b[0m\u001b[0;34m\u001b[0m\u001b[0;34m\u001b[0m\u001b[0m\n",
      "\u001b[0;32m~/opt/anaconda3/lib/python3.8/site-packages/IPython/core/magics/script.py\u001b[0m in \u001b[0;36mshebang\u001b[0;34m(self, line, cell)\u001b[0m\n\u001b[1;32m    243\u001b[0m             \u001b[0msys\u001b[0m\u001b[0;34m.\u001b[0m\u001b[0mstderr\u001b[0m\u001b[0;34m.\u001b[0m\u001b[0mflush\u001b[0m\u001b[0;34m(\u001b[0m\u001b[0;34m)\u001b[0m\u001b[0;34m\u001b[0m\u001b[0;34m\u001b[0m\u001b[0m\n\u001b[1;32m    244\u001b[0m         \u001b[0;32mif\u001b[0m \u001b[0margs\u001b[0m\u001b[0;34m.\u001b[0m\u001b[0mraise_error\u001b[0m \u001b[0;32mand\u001b[0m \u001b[0mp\u001b[0m\u001b[0;34m.\u001b[0m\u001b[0mreturncode\u001b[0m\u001b[0;34m!=\u001b[0m\u001b[0;36m0\u001b[0m\u001b[0;34m:\u001b[0m\u001b[0;34m\u001b[0m\u001b[0;34m\u001b[0m\u001b[0m\n\u001b[0;32m--> 245\u001b[0;31m             \u001b[0;32mraise\u001b[0m \u001b[0mCalledProcessError\u001b[0m\u001b[0;34m(\u001b[0m\u001b[0mp\u001b[0m\u001b[0;34m.\u001b[0m\u001b[0mreturncode\u001b[0m\u001b[0;34m,\u001b[0m \u001b[0mcell\u001b[0m\u001b[0;34m,\u001b[0m \u001b[0moutput\u001b[0m\u001b[0;34m=\u001b[0m\u001b[0mout\u001b[0m\u001b[0;34m,\u001b[0m \u001b[0mstderr\u001b[0m\u001b[0;34m=\u001b[0m\u001b[0merr\u001b[0m\u001b[0;34m)\u001b[0m\u001b[0;34m\u001b[0m\u001b[0;34m\u001b[0m\u001b[0m\n\u001b[0m\u001b[1;32m    246\u001b[0m \u001b[0;34m\u001b[0m\u001b[0m\n\u001b[1;32m    247\u001b[0m     \u001b[0;32mdef\u001b[0m \u001b[0m_run_script\u001b[0m\u001b[0;34m(\u001b[0m\u001b[0mself\u001b[0m\u001b[0;34m,\u001b[0m \u001b[0mp\u001b[0m\u001b[0;34m,\u001b[0m \u001b[0mcell\u001b[0m\u001b[0;34m,\u001b[0m \u001b[0mto_close\u001b[0m\u001b[0;34m)\u001b[0m\u001b[0;34m:\u001b[0m\u001b[0;34m\u001b[0m\u001b[0;34m\u001b[0m\u001b[0m\n",
      "\u001b[0;31mCalledProcessError\u001b[0m: Command 'b'\\nchmod 700 hs_TBX21.fasta\\n'' returned non-zero exit status 1."
     ]
    }
   ],
   "source": [
    "%%bash\n",
    "\n",
    "chmod 700 hs_TBX21.fasta"
   ]
  },
  {
   "cell_type": "code",
   "execution_count": null,
   "metadata": {},
   "outputs": [],
   "source": []
  }
 ],
 "metadata": {
  "celltoolbar": "Create Assignment",
  "kernelspec": {
   "display_name": "Python 3",
   "language": "python",
   "name": "python3"
  },
  "language_info": {
   "codemirror_mode": {
    "name": "ipython",
    "version": 3
   },
   "file_extension": ".py",
   "mimetype": "text/x-python",
   "name": "python",
   "nbconvert_exporter": "python",
   "pygments_lexer": "ipython3",
   "version": "3.6.3"
  }
 },
 "nbformat": 4,
 "nbformat_minor": 4
}
