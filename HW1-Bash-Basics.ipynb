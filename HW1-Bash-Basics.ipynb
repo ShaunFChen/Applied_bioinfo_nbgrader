{
 "cells": [
  {
   "cell_type": "markdown",
   "metadata": {
    "nbgrader": {
     "grade": false,
     "grade_id": "context_1",
     "locked": true,
     "schema_version": 3,
     "solution": false,
     "task": false
    }
   },
   "source": [
    "# Homework 1: Jupyter and Bash Basics\n",
    "Curated by Sabah Ul-Hasan, Karthik Gangavarapu, Huitian Dao, and Andrew Su\n",
    "\n",
    "Homeworks are due every Tuesday at 8 AM PST.<br>\n",
    "Download your homework as a notebook for TAs to provide feedback: HW#_LastName.ipynb<br>\n",
    "Make sure to save your work constantly so the efforts don't get lost!\n",
    "\n",
    "In this assignment, you will <br>\n",
    "A1.aa Practice basic bash operations in terminal and functionality of Jupyter notebook (Python kernel)<br>\n",
    "A1.ab Execute basic operations of bash commands in Jupyter notebook <br>\n",
    "A1.ba Utilize bash for more sophisicated tasks, such as pipes <br>\n",
    "A1.bb Solidfy your understanding of bash by practice\n",
    "\n",
    "Note that there is a section at the very end (A1.bb) to point out any enhancements you personally would make to this assignment if you were to lead the course. Feel free to give it a try!"
   ]
  },
  {
   "cell_type": "markdown",
   "metadata": {
    "nbgrader": {
     "grade": false,
     "grade_id": "context_2",
     "locked": true,
     "schema_version": 3,
     "solution": false,
     "task": false
    }
   },
   "source": [
    "### A1.aa: Github and Jupyter notebook [20-30 min] Individual\n",
    "\n",
    "#### aa.i Confirmation of Github account and download of data in Bioinformatics course repo<br>\n",
    "Go to https://github.com/SuLab/Applied-Bioinformatics/tree/Fall-2020 and download as a zip file.<br>\n",
    "Instead of looking via your Finder, use the command line to identify where this zip file has been downloaded and unzip. <br>\n",
    "Then, use command line to find where the 'data' folder is located within 'Homework.'<br>\n"
   ]
  },
  {
   "cell_type": "markdown",
   "metadata": {
    "nbgrader": {
     "grade": false,
     "grade_id": "ls_pwd_cd_unzip",
     "locked": true,
     "schema_version": 3,
     "solution": false,
     "task": false
    }
   },
   "source": [
    "### Question 1 (1 point)\n",
    "Did you find this folder? _(Yes/No)_  \n",
    "- If yes, show the combination of commands you reach the folder below.\n",
    "- If no, type out any obstacles you encounter here."
   ]
  },
  {
   "cell_type": "markdown",
   "metadata": {
    "nbgrader": {
     "grade": true,
     "grade_id": "cell-4be7bccd05eb4fcd",
     "locked": false,
     "points": 1,
     "schema_version": 3,
     "solution": true,
     "task": false
    }
   },
   "source": [
    "=== BEGIN MARK SCHEME ===  \n",
    "__Answer: Students should use a combination of `ls`, `pwd`, and `cd` to reach their Downloads folder. Once there, `unzip [filename]`__  \n",
    "=== END MARK SCHEME ==="
   ]
  },
  {
   "cell_type": "markdown",
   "metadata": {
    "nbgrader": {
     "grade": false,
     "grade_id": "context_3",
     "locked": true,
     "schema_version": 3,
     "solution": false,
     "task": false
    }
   },
   "source": [
    "\n",
    "#### aa.ii Confirmation of basic Jupyter notebook operations <br>\n",
    "Use ```jupyter notebook``` to open HW 1 in your browser <br>"
   ]
  },
  {
   "cell_type": "markdown",
   "metadata": {
    "nbgrader": {
     "grade": false,
     "grade_id": "insert_cell",
     "locked": true,
     "points": 1,
     "schema_version": 3,
     "solution": false,
     "task": true
    }
   },
   "source": [
    "### Question 2 (1 point)\n",
    "Do you see the same screen as shared by the instructors? _(Yes/No)_\n",
    "- Create a new cell below this one by clicking on this cell and the selecting \"Insert\"->\"Insert Cell Below\"."
   ]
  },
  {
   "cell_type": "markdown",
   "metadata": {
    "nbgrader": {
     "grade": false,
     "grade_id": "run_2plus3",
     "locked": true,
     "schema_version": 3,
     "solution": false,
     "task": false
    }
   },
   "source": [
    "### Question 3 (1 point)\n",
    "Run the cell with an output after typing `2+3`."
   ]
  },
  {
   "cell_type": "code",
   "execution_count": 1,
   "metadata": {
    "nbgrader": {
     "grade": true,
     "grade_id": "run_2plus3_answer",
     "locked": false,
     "points": 1,
     "schema_version": 3,
     "solution": true,
     "task": false
    }
   },
   "outputs": [
    {
     "data": {
      "text/plain": [
       "5"
      ]
     },
     "execution_count": 1,
     "metadata": {},
     "output_type": "execute_result"
    }
   ],
   "source": [
    "### BEGIN MY SOLUTION\n",
    "2+3\n",
    "### END MY SOLUTION"
   ]
  },
  {
   "cell_type": "markdown",
   "metadata": {
    "nbgrader": {
     "grade": false,
     "grade_id": "cell_type",
     "locked": true,
     "schema_version": 3,
     "solution": false,
     "task": false
    }
   },
   "source": [
    "### Question 4 (1 point)\n",
    "Notice the different settings (ie Markdown). What do they mean?"
   ]
  },
  {
   "cell_type": "markdown",
   "metadata": {
    "nbgrader": {
     "grade": true,
     "grade_id": "cell_type_answer",
     "locked": false,
     "points": 1,
     "schema_version": 3,
     "solution": true,
     "task": false
    }
   },
   "source": [
    "=== BEGIN MARK SCHEME ===  \n",
    "\n",
    "=== END MARK SCHEME ===  "
   ]
  },
  {
   "cell_type": "markdown",
   "metadata": {
    "nbgrader": {
     "grade": false,
     "grade_id": "kernel",
     "locked": true,
     "schema_version": 3,
     "solution": false,
     "task": false
    }
   },
   "source": [
    "### Question 5 (1 point)\n",
    "Why did we need to install the R kernel, whereas Python 3 was automatically included?"
   ]
  },
  {
   "cell_type": "markdown",
   "metadata": {
    "nbgrader": {
     "grade": true,
     "grade_id": "kernel_answer",
     "locked": false,
     "points": 1,
     "schema_version": 3,
     "solution": true,
     "task": false
    }
   },
   "source": [
    "=== BEGIN MARK SCHEME ===  \n",
    "\n",
    "=== END MARK SCHEME ===  "
   ]
  },
  {
   "cell_type": "markdown",
   "metadata": {
    "nbgrader": {
     "grade": false,
     "grade_id": "additional",
     "locked": true,
     "schema_version": 3,
     "solution": false,
     "task": false
    }
   },
   "source": [
    "### Question 6 (1 point)\n",
    "What additional observations do you have of Jupyter notebook, and how it functions? Play around with it and take notes of your observations. Also, type out any obstacles you encounter here."
   ]
  },
  {
   "cell_type": "markdown",
   "metadata": {
    "nbgrader": {
     "grade": true,
     "grade_id": "additional_answer",
     "locked": false,
     "points": 1,
     "schema_version": 3,
     "solution": true,
     "task": false
    }
   },
   "source": [
    "=== BEGIN MARK SCHEME ===  \n",
    "\n",
    "=== END MARK SCHEME ===  "
   ]
  }
 ],
 "metadata": {
  "celltoolbar": "Create Assignment",
  "kernelspec": {
   "display_name": "Python 3",
   "language": "python",
   "name": "python3"
  },
  "language_info": {
   "codemirror_mode": {
    "name": "ipython",
    "version": 3
   },
   "file_extension": ".py",
   "mimetype": "text/x-python",
   "name": "python",
   "nbconvert_exporter": "python",
   "pygments_lexer": "ipython3",
   "version": "3.6.3"
  }
 },
 "nbformat": 4,
 "nbformat_minor": 4
}
